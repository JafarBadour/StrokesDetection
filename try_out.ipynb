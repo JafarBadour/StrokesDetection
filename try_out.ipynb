{
 "cells": [
  {
   "cell_type": "code",
   "execution_count": 85,
   "metadata": {},
   "outputs": [],
   "source": [
    "import SimpleITK as sitk\n",
    "import os\n",
    "import matplotlib.pyplot as plt\n",
    "import SimpleITK as sitk\n",
    "from downloaddata import fetch_data as fdata\n",
    "from myshow import myshow\n",
    "import matplotlib.animation as animation\n",
    "\n",
    "import numpy as np\n",
    "\n",
    "# reader = sitk.ImageFileReader()\n",
    "# reader.SetFileName('./VSD.Brain.XX.O.MR_4DPWI.127015.nii.gz')\n",
    "# image = reader.Execute()\n",
    "# myshow(image, title='T1')"
   ]
  },
  {
   "cell_type": "code",
   "execution_count": 148,
   "metadata": {
    "pycharm": {
     "name": "#%%\n"
    }
   },
   "outputs": [
    {
     "name": "stdout",
     "output_type": "stream",
     "text": [
      "(192, 192, 19, 1, 80)\n"
     ]
    }
   ],
   "source": [
    "import os\n",
    "\n",
    "import numpy as np\n",
    "\n",
    "\n",
    "example_filename = os.path.join('.', 'VSD.Brain.XX.O.MR_4DPWI.127015.nii.gz')\n",
    "import nibabel as nib\n",
    "\n",
    "img = nib.load(example_filename)\n",
    "\n",
    "data = img.get_fdata()\n",
    "print(data.shape)\n"
   ]
  },
  {
   "cell_type": "code",
   "execution_count": 162,
   "outputs": [
    {
     "data": {
      "text/plain": "interactive(children=(IntSlider(value=10, description='slice', max=19, min=1), IntSlider(value=40, description…",
      "application/vnd.jupyter.widget-view+json": {
       "version_major": 2,
       "version_minor": 0,
       "model_id": "f080e34e3bd74417b87ca143b2be3751"
      }
     },
     "metadata": {},
     "output_type": "display_data"
    }
   ],
   "source": [
    "from ipywidgets import interact, fixed\n",
    "\n",
    "def display_center_effect(slice,channel, cmap):\n",
    "\n",
    "    x = data[:,:,slice-1,0,channel-1] # vertical segments\n",
    "    print(slice, channel)\n",
    "    # x = data[:,:,0,0,:] # channels of of the vertical segment\n",
    "    # x = x[:,:,0]\n",
    "    type = cmap\n",
    "    cmap = plt.cm.hot\n",
    "    if type == 1:\n",
    "        cmap = 'gray'\n",
    "    plt.imshow(x, cmap=cmap)\n",
    "    plt.show()\n",
    "\n",
    "# 2D square centered on (0,0)\n",
    "points = [np.array((-1.0,-1.0)), np.array((-1.0,1.0)), np.array((1.0,1.0)), np.array((1.0,-1.0))]\n",
    "\n",
    "# Scale by 2\n",
    "similarity = sitk.Similarity2DTransform();\n",
    "similarity.SetScale(2)\n",
    "\n",
    "interact(display_center_effect, slice=(1,19), cmap=(0,1), channel=(1,79));"
   ],
   "metadata": {
    "collapsed": false,
    "pycharm": {
     "name": "#%%\n"
    }
   }
  }
 ],
 "metadata": {
  "kernelspec": {
   "display_name": "Python 3",
   "language": "python",
   "name": "python3"
  },
  "language_info": {
   "codemirror_mode": {
    "name": "ipython",
    "version": 3
   },
   "file_extension": ".py",
   "mimetype": "text/x-python",
   "name": "python",
   "nbconvert_exporter": "python",
   "pygments_lexer": "ipython3",
   "version": "3.7.6"
  }
 },
 "nbformat": 4,
 "nbformat_minor": 1
}